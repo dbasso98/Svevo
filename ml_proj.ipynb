{
 "cells": [
  {
   "cell_type": "code",
   "execution_count": 1,
   "metadata": {},
   "outputs": [],
   "source": [
    "import pandas as pd\n",
    "import numpy as np\n",
    "import matplotlib.pyplot as plt"
   ]
  },
  {
   "cell_type": "markdown",
   "metadata": {},
   "source": [
    "## Analysis of Svevo’s letters corpus\n",
    "\n",
    "A corpus of approximately 900 letters sent by and received to Italo Svevo, the famous writer from Trieste, is publicly available. The letters are written in different languages (Italian, English, German, and Triestino, the dialect of Trieste); sometimes, more than one language is used in the same letter.\n",
    "\n",
    "The goal is to discover and report:\n",
    "\n",
    " - which are the main topics of discussion in the corpus, who are the persons which each topic is more associated with, how does the interest on different topics evolve over the time\n",
    "\n",
    "- which are the sentiments (positive, negative, at least) expressed in the letters, how are they related with persons and topics, how do they evolve over the time\n",
    "    \n",
    "The corpus contains info about: corpus section name, index of letter in the section, date of the letter, year of the letter, sender of the letter, location of the sender, recipient, location of the recipient, languages used in the letter, main language, text of the letter. The corpus has already been preliminary analyzed."
   ]
  },
  {
   "cell_type": "code",
   "execution_count": 4,
   "metadata": {},
   "outputs": [],
   "source": [
    "data = pd.read_csv('carteggio_svevo3.csv', sep=';')"
   ]
  },
  {
   "cell_type": "code",
   "execution_count": 9,
   "metadata": {},
   "outputs": [
    {
     "data": {
      "text/plain": [
       "'Trieste, 26 June 1914 Dear Mr. Joyce, Many thanks for your kind present. You may imagine how carefully I shall read the work of my teacher and friend. Surely I shall speak about the new book (Dubliners) with everybody I can suppose capable of being interested with an English work of Irish contents. When will you write an Italian work about our town? Why not? Many thanks also from   my   wife. I hope you will soon offer me the opportunity to talk with you about the many pages of yours I had now the opportunity to read. Do you know that I have now discovered that Dedalus is not only an eyeing and looking animal but that he has also a strongly developed sense for smells? I found this quality was hidden for me behind your awful handwriting which is not much better than mine. Believe me,   dear Mr. Joyce, Yours   truly Ettore Schmitz '"
      ]
     },
     "execution_count": 9,
     "metadata": {},
     "output_type": "execute_result"
    }
   ],
   "source": [
    "data['text'][3]"
   ]
  },
  {
   "cell_type": "code",
   "execution_count": null,
   "metadata": {},
   "outputs": [],
   "source": []
  }
 ],
 "metadata": {
  "kernelspec": {
   "display_name": "Python 3",
   "language": "python",
   "name": "python3"
  },
  "language_info": {
   "codemirror_mode": {
    "name": "ipython",
    "version": 3
   },
   "file_extension": ".py",
   "mimetype": "text/x-python",
   "name": "python",
   "nbconvert_exporter": "python",
   "pygments_lexer": "ipython3",
   "version": "3.8.5"
  }
 },
 "nbformat": 4,
 "nbformat_minor": 4
}
